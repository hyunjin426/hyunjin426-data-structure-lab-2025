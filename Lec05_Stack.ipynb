{
  "nbformat": 4,
  "nbformat_minor": 0,
  "metadata": {
    "colab": {
      "provenance": []
    },
    "kernelspec": {
      "name": "python3",
      "display_name": "Python 3"
    },
    "language_info": {
      "name": "python"
    }
  },
  "cells": [
    {
      "cell_type": "code",
      "execution_count": 6,
      "metadata": {
        "id": "Tew4DOsY2OZ5"
      },
      "outputs": [],
      "source": [
        "class Stack:\n",
        "  def __init__(self):\n",
        "    self.items=[]\n",
        "\n",
        "  def is_empty(self):\n",
        "    return self.items==[]\n",
        "\n",
        "  def push(self,item):\n",
        "    self.items.append(item)\n",
        "\n",
        "  def pop(self):\n",
        "    return self.items.pop()\n",
        "\n",
        "  def peek(self):\n",
        "    return self.items[len(self.items)-1]\n",
        "\n",
        "  def size(self):\n",
        "    return len(self.items)\n",
        "\n",
        "  def pop_all(self):\n",
        "    self.items.clear()"
      ]
    },
    {
      "cell_type": "code",
      "source": [
        "s=Stack()\n",
        "print(s.is_empty())\n",
        "s.push(4)\n",
        "s.push(\"Cat\")\n",
        "print(s.peek())"
      ],
      "metadata": {
        "colab": {
          "base_uri": "https://localhost:8080/"
        },
        "id": "VgKuDi723gNL",
        "outputId": "987b1810-c85b-46c6-f479-0588ff396317"
      },
      "execution_count": 7,
      "outputs": [
        {
          "output_type": "stream",
          "name": "stdout",
          "text": [
            "True\n",
            "Cat\n"
          ]
        }
      ]
    },
    {
      "cell_type": "code",
      "source": [
        "def par_checker(symbol_string):\n",
        "  s=Stack()\n",
        "  balanced=True\n",
        "  index=0\n",
        "\n",
        "  while index<len(symbol_string)and balanced:\n",
        "    symbol=symbol_string[index]\n",
        "    if symbol==\"(\":\n",
        "      s.push(symbol)\n",
        "    else:\n",
        "      if s.is_empty():\n",
        "        balanced=False\n",
        "      else:s.pop()\n",
        "\n",
        "    index=index+1\n",
        "\n",
        "  if balanced and s.is_empty():\n",
        "    return True\n",
        "  else:\n",
        "    return False"
      ],
      "metadata": {
        "id": "md8OtC2v47d4"
      },
      "execution_count": 3,
      "outputs": []
    },
    {
      "cell_type": "code",
      "source": [
        "def divided_by_2(dec_number):\n",
        "  rem_stack=Stack()\n",
        "\n",
        "  while dec_number>0:\n",
        "    rem=dec_number%2\n",
        "    rem_stack.push(rem)\n",
        "    dec_number=dec_number//2\n",
        "\n",
        "  bin_string=\"\"\n",
        "  while not rem_stack.is_empty():\n",
        "    bin_string=bin_string+str(rem_stack.pop())\n",
        "\n",
        "    return bin_string"
      ],
      "metadata": {
        "id": "90qJWha3055E"
      },
      "execution_count": null,
      "outputs": []
    }
  ]
}