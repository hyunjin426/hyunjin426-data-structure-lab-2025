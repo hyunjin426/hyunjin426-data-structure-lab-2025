{
  "nbformat": 4,
  "nbformat_minor": 0,
  "metadata": {
    "colab": {
      "provenance": []
    },
    "kernelspec": {
      "name": "python3",
      "display_name": "Python 3"
    },
    "language_info": {
      "name": "python"
    }
  },
  "cells": [
    {
      "cell_type": "code",
      "execution_count": 3,
      "metadata": {
        "id": "stxzUeGS9wXX"
      },
      "outputs": [],
      "source": [
        "def insertion_sort(a_list):\n",
        "  for index in range(1, len(a_list)) :\n",
        "    current_value = a_list[index]\n",
        "    position = index\n",
        "\n",
        "    while position > 0 and a_list[position - 1] > current_value:\n",
        "      a_list[position] = a_list[position - 1]\n",
        "      position = position - 1\n",
        "\n",
        "    a_list[position]=current_value"
      ]
    },
    {
      "cell_type": "code",
      "source": [
        "def shell_sort(a_list):\n",
        "  sublist_count = len(a_list) // 2\n",
        "  while sublist_count > 0:\n",
        "    for start_position in range(sublist_count):\n",
        "      gap_insertion_sort(a_list, start_position, sublist_count)\n",
        "\n",
        "    #print (\"After increments of size\", sublist_count, \"The List is\", a_List)\n",
        "    sublist_count = sublist_count // 2\n"
      ],
      "metadata": {
        "id": "Y4LQUW22Byn4"
      },
      "execution_count": null,
      "outputs": []
    },
    {
      "cell_type": "code",
      "source": [
        "def gap_insertion_sort(a_list, start, gap):\n",
        "  for i in range(start + gap, len(a_list), gap) :\n",
        "    current_value = a_list[i]\n",
        "    position = i\n",
        "\n",
        "    while position >= gap and a_list[position - gap] > current_value:\n",
        "      a_list[position] = a_list[position - gap]\n",
        "      position = position - gap\n",
        "\n",
        "    a_list[position] = current_value"
      ],
      "metadata": {
        "id": "_JKUELOHCV35"
      },
      "execution_count": null,
      "outputs": []
    },
    {
      "cell_type": "code",
      "source": [
        "def quick_sort(a_list):\n",
        "  quick_sort_helper(a_list, 0, len(a_list) - 1)\n",
        "\n",
        "def quick_sort_helper(a_list, first, last):\n",
        "  if first < last:\n",
        "    split_point = partition(a_list, first, last)\n",
        "    quick_sort_helper(a_list, first, split_point - 1)\n",
        "    quick_sort_helper(a_list, split_point + 1, last)"
      ],
      "metadata": {
        "id": "anLAOG8oCy3K"
      },
      "execution_count": null,
      "outputs": []
    },
    {
      "cell_type": "code",
      "source": [
        "def partition(a_list, first, last):\n",
        "  pivot_value = a_list[first]\n",
        "  left_mark = first + 1\n",
        "  right_mark = last\n",
        "  done = False\n",
        "\n",
        "  while not done:\n",
        "    while left_mark <= right_mark and a_list[left_mark] <= pivot_value:\n",
        "      left_mark = left_mark + 1\n",
        "\n",
        "    while a_list[right_mark] >= pivot_value and right_mark >= left_mark:\n",
        "        right_mark = right_mark - 1\n",
        "\n",
        "    if right_mark < left_mark:\n",
        "      done = True\n",
        "    else:\n",
        "      temp = a_list[left_mark]\n",
        "      a_list[left_mark] = a_list[right_mark]\n",
        "      a_list[right_mark] = temp\n",
        "\n",
        "  temp = a_list[first]\n",
        "  a_list [first] = a_list[right_mark]\n",
        "  a_list[right_mark] = temp"
      ],
      "metadata": {
        "id": "JTAdP82BDOjQ"
      },
      "execution_count": 4,
      "outputs": []
    }
  ]
}